{
 "cells": [
  {
   "cell_type": "code",
   "execution_count": 8,
   "id": "e9dad5f4-3a64-484c-b472-3960c039a3e2",
   "metadata": {},
   "outputs": [
    {
     "name": "stdout",
     "output_type": "stream",
     "text": [
      "For Loop Use Case\n",
      "1\n",
      "2\n",
      "3\n",
      "4\n",
      "5\n",
      "6\n",
      "7\n",
      "8\n",
      "9\n",
      "10\n",
      "\n",
      "\n",
      "While loop application\n"
     ]
    },
    {
     "name": "stdin",
     "output_type": "stream",
     "text": [
      "Please enter a number between 1 and 10:  56\n"
     ]
    },
    {
     "name": "stdout",
     "output_type": "stream",
     "text": [
      "Invalid input, please try again.\n"
     ]
    },
    {
     "name": "stdin",
     "output_type": "stream",
     "text": [
      "Please enter a number between 1 and 10:  43\n"
     ]
    },
    {
     "name": "stdout",
     "output_type": "stream",
     "text": [
      "Invalid input, please try again.\n"
     ]
    },
    {
     "name": "stdin",
     "output_type": "stream",
     "text": [
      "Please enter a number between 1 and 10:  2\n"
     ]
    },
    {
     "name": "stdout",
     "output_type": "stream",
     "text": [
      "You entered: 2\n"
     ]
    }
   ],
   "source": [
    "\"\"\"\n",
    "A for loop is generally used when we know the exact number of times we need to execute a block of code.\n",
    "It is especially useful when we need to iterate over a fixed number of elements in a collection or when we\n",
    "need to execute a block of code for a fixed number of times.\n",
    "For example, let's say we want to print the numbers from 1 to 10. We could use a for loop to do this as follows:\n",
    "\"\"\"\n",
    "print(\"For Loop Use Case\")\n",
    "for i in range(1,11):\n",
    "    print(i)\n",
    "\"\"\"\n",
    "On the other hand, a while loop is generally used when we don't know the exact number of times we need to execute a block of code.\n",
    "It is especially useful when we need to execute a block of code until a certain condition is met.\n",
    "For example, let's say we want to keep prompting a user to enter a number until they enter a valid number between 1 and 10.\n",
    "We could use a while loop to do this as follows:\n",
    "\"\"\"\n",
    "print(\"\\n\\nWhile loop application\")\n",
    "valid_input = False\n",
    "while not valid_input:\n",
    "    user_input = int(input(\"Please enter a number between 1 and 10: \"))\n",
    "    if user_input >= 1 and user_input <= 10:\n",
    "        valid_input = True\n",
    "        print(\"You entered:\", user_input)\n",
    "    else:\n",
    "        print(\"Invalid input, please try again.\")"
   ]
  },
  {
   "cell_type": "code",
   "execution_count": 12,
   "id": "d4787ea9-3a4e-4e6e-9556-10a06fcc9bee",
   "metadata": {},
   "outputs": [
    {
     "name": "stdout",
     "output_type": "stream",
     "text": [
      "With the help of for loop sum of 10 numbers is:= 55 and product is:= 3628800\n",
      "\n",
      "\n",
      "With the help of while loop sum of 10 numbers is:= 55 and product is:= 3628800\n"
     ]
    }
   ],
   "source": [
    "answer = 0\n",
    "product = 1\n",
    "\n",
    "for i in range(1,11):\n",
    "    answer = answer + i\n",
    "    product = product*i\n",
    "\n",
    "print(f\"With the help of for loop sum of 10 numbers is:= {answer} and product is:= {product}\")\n",
    "\n",
    "answer = 0\n",
    "product = 1\n",
    "i=1\n",
    "while i!=11:\n",
    "    answer = answer+i\n",
    "    product = product*i\n",
    "    i = i+1\n",
    "print(f\"\\n\\nWith the help of while loop sum of 10 numbers is:= {answer} and product is:= {product}\")"
   ]
  },
  {
   "cell_type": "code",
   "execution_count": 16,
   "id": "93753c67-0e37-4b50-bb44-8199c56f8a9c",
   "metadata": {},
   "outputs": [
    {
     "name": "stdin",
     "output_type": "stream",
     "text": [
      "Enter the number of units consumed 411\n"
     ]
    },
    {
     "name": "stdout",
     "output_type": "stream",
     "text": [
      "4270.0\n"
     ]
    }
   ],
   "source": [
    "units = int(input(\"Enter the number of units consumed\"))\n",
    "bill = 0\n",
    "\n",
    "if units>300:\n",
    "    bill = (units-300)*20 + 100*4.5 + 100*6 + 100*10\n",
    "elif units<=300 and units>200:\n",
    "    bill = (units-200)*10 + 100*4.5 + 100*6\n",
    "elif units<=200 and units>100:\n",
    "    bill = (units-100)*6 + 100*4.5\n",
    "else:\n",
    "    bill = units*4.5\n",
    "print(bill)"
   ]
  },
  {
   "cell_type": "code",
   "execution_count": 34,
   "id": "2ddada86-eb72-42e6-9b04-29870c2a849c",
   "metadata": {},
   "outputs": [
    {
     "name": "stdout",
     "output_type": "stream",
     "text": [
      "2\n",
      "4\n",
      "5\n",
      "6\n",
      "8\n",
      "10\n",
      "12\n",
      "14\n",
      "15\n",
      "16\n",
      "18\n",
      "20\n",
      "22\n",
      "24\n",
      "25\n",
      "26\n",
      "28\n",
      "30\n",
      "32\n",
      "34\n",
      "35\n",
      "36\n",
      "38\n",
      "40\n",
      "42\n",
      "44\n",
      "45\n",
      "46\n",
      "48\n",
      "50\n",
      "52\n",
      "54\n",
      "55\n",
      "56\n",
      "58\n",
      "60\n",
      "62\n",
      "64\n",
      "65\n",
      "66\n",
      "68\n",
      "70\n",
      "72\n",
      "74\n",
      "75\n",
      "76\n",
      "78\n",
      "80\n",
      "82\n",
      "84\n",
      "85\n",
      "86\n",
      "88\n",
      "90\n",
      "92\n",
      "94\n",
      "95\n",
      "96\n",
      "98\n",
      "100\n"
     ]
    }
   ],
   "source": [
    "s = []\n",
    "divisible_cubes = []\n",
    "for i in range(1,101):\n",
    "    s.append(i)\n",
    "for i in s:\n",
    "    m = 1\n",
    "    j = 0\n",
    "    while j!=3:\n",
    "        m= m*i\n",
    "        j = j+1\n",
    "    if m%4==0 or m%5==0:\n",
    "        divisible_cubes.append(i)\n",
    "for i in divisible_cubes:\n",
    "    print(i)"
   ]
  },
  {
   "cell_type": "code",
   "execution_count": 36,
   "id": "a0558d71-9741-41d7-a778-ae133fe25ddd",
   "metadata": {},
   "outputs": [
    {
     "name": "stdout",
     "output_type": "stream",
     "text": [
      "12\n"
     ]
    }
   ],
   "source": [
    "string = \"I want to become a data scientist\"\n",
    "count = 0\n",
    "for i in string:\n",
    "    s = i.capitalize()\n",
    "    if s==\"A\" or s==\"E\" or s==\"I\" or s==\"O\" or s==\"U\":\n",
    "        count = count+1\n",
    "print(count)"
   ]
  },
  {
   "cell_type": "code",
   "execution_count": null,
   "id": "60fcc5b2-20bd-4a80-bad2-926655802968",
   "metadata": {},
   "outputs": [],
   "source": []
  }
 ],
 "metadata": {
  "kernelspec": {
   "display_name": "Python 3 (ipykernel)",
   "language": "python",
   "name": "python3"
  },
  "language_info": {
   "codemirror_mode": {
    "name": "ipython",
    "version": 3
   },
   "file_extension": ".py",
   "mimetype": "text/x-python",
   "name": "python",
   "nbconvert_exporter": "python",
   "pygments_lexer": "ipython3",
   "version": "3.10.8"
  }
 },
 "nbformat": 4,
 "nbformat_minor": 5
}
